{
 "cells": [
  {
   "cell_type": "code",
   "execution_count": 1,
   "metadata": {},
   "outputs": [],
   "source": [
    "import pandas as pd\n",
    "import numpy as np\n",
    "import nltk\n",
    "import re\n",
    "import zipfile\n",
    "from zipfile import *\n",
    "from random import random\n",
    "import matplotlib.pyplot as plt\n",
    "from sklearn.model_selection import train_test_split"
   ]
  },
  {
   "cell_type": "markdown",
   "metadata": {},
   "source": [
    "## 0. Load Data"
   ]
  },
  {
   "cell_type": "code",
   "execution_count": 2,
   "metadata": {},
   "outputs": [],
   "source": [
    "with zipfile.ZipFile(\"data/QQP/train.csv.zip\",\"r\") as zip_ref:\n",
    "    zip_ref.extractall(\"data/QQP/\")\n",
    "\n",
    "train = pd.read_csv('data/QQP/train.csv', low_memory=False)\n",
    "who = pd.read_csv('data/WHO/WHO_QA_data.csv', low_memory=False)"
   ]
  },
  {
   "cell_type": "code",
   "execution_count": 3,
   "metadata": {},
   "outputs": [
    {
     "name": "stdout",
     "output_type": "stream",
     "text": [
      "Size of original QQP Training Data: 404290\n",
      "Size of original WHO Data: 1279\n"
     ]
    }
   ],
   "source": [
    "print(\"Size of original QQP Training Data: {}\".format(len(train)))\n",
    "print(\"Size of original WHO Data: {}\".format(len(who)))"
   ]
  },
  {
   "cell_type": "markdown",
   "metadata": {},
   "source": [
    "## 1. Prepare WHO Data"
   ]
  },
  {
   "cell_type": "markdown",
   "metadata": {},
   "source": [
    "### 1.1 Filter WHO Data by Covid Topic"
   ]
  },
  {
   "cell_type": "code",
   "execution_count": 4,
   "metadata": {},
   "outputs": [
    {
     "name": "stdout",
     "output_type": "stream",
     "text": [
      "COVID-19 Question and Answer Pairs from WHO\n"
     ]
    },
    {
     "data": {
      "text/html": [
       "<div>\n",
       "<style scoped>\n",
       "    .dataframe tbody tr th:only-of-type {\n",
       "        vertical-align: middle;\n",
       "    }\n",
       "\n",
       "    .dataframe tbody tr th {\n",
       "        vertical-align: top;\n",
       "    }\n",
       "\n",
       "    .dataframe thead th {\n",
       "        text-align: right;\n",
       "    }\n",
       "</style>\n",
       "<table border=\"1\" class=\"dataframe\">\n",
       "  <thead>\n",
       "    <tr style=\"text-align: right;\">\n",
       "      <th></th>\n",
       "      <th>question</th>\n",
       "      <th>answer</th>\n",
       "    </tr>\n",
       "  </thead>\n",
       "  <tbody>\n",
       "    <tr>\n",
       "      <th>0</th>\n",
       "      <td>How are COVID-19 and influenza viruses similar?</td>\n",
       "      <td>Firstly, COVID-19 and influenza viruses have a...</td>\n",
       "    </tr>\n",
       "    <tr>\n",
       "      <th>1</th>\n",
       "      <td>How are COVID-19 and influenza viruses different?</td>\n",
       "      <td>The speed of transmission is an important poin...</td>\n",
       "    </tr>\n",
       "    <tr>\n",
       "      <th>2</th>\n",
       "      <td>What medical interventions are available for C...</td>\n",
       "      <td>While there are a number of therapeutics curre...</td>\n",
       "    </tr>\n",
       "    <tr>\n",
       "      <th>3</th>\n",
       "      <td>How do we know that a vaccine is safe?</td>\n",
       "      <td>The most commonly used vaccines we have today ...</td>\n",
       "    </tr>\n",
       "    <tr>\n",
       "      <th>4</th>\n",
       "      <td>Are pregnant women at higher risk from COVID-19?</td>\n",
       "      <td>Research is currently underway to understand t...</td>\n",
       "    </tr>\n",
       "    <tr>\n",
       "      <th>...</th>\n",
       "      <td>...</td>\n",
       "      <td>...</td>\n",
       "    </tr>\n",
       "    <tr>\n",
       "      <th>110</th>\n",
       "      <td>I am a policy maker. What can I do to prevent ...</td>\n",
       "      <td>When making preparedness and response plans fo...</td>\n",
       "    </tr>\n",
       "    <tr>\n",
       "      <th>111</th>\n",
       "      <td>Has violence against women increased since the...</td>\n",
       "      <td>Violence against women is highly prevalent, an...</td>\n",
       "    </tr>\n",
       "    <tr>\n",
       "      <th>112</th>\n",
       "      <td>How does COVID-19 increase risks of violence f...</td>\n",
       "      <td>Stress, the disruption of social and protectiv...</td>\n",
       "    </tr>\n",
       "    <tr>\n",
       "      <th>113</th>\n",
       "      <td>Who is most vulnerable?</td>\n",
       "      <td>Women who are displaced, who are migrants or r...</td>\n",
       "    </tr>\n",
       "    <tr>\n",
       "      <th>114</th>\n",
       "      <td>Why should I care about violence against women...</td>\n",
       "      <td>Violence against women is a grave violation of...</td>\n",
       "    </tr>\n",
       "  </tbody>\n",
       "</table>\n",
       "<p>115 rows × 2 columns</p>\n",
       "</div>"
      ],
      "text/plain": [
       "                                              question  \\\n",
       "0      How are COVID-19 and influenza viruses similar?   \n",
       "1    How are COVID-19 and influenza viruses different?   \n",
       "2    What medical interventions are available for C...   \n",
       "3               How do we know that a vaccine is safe?   \n",
       "4     Are pregnant women at higher risk from COVID-19?   \n",
       "..                                                 ...   \n",
       "110  I am a policy maker. What can I do to prevent ...   \n",
       "111  Has violence against women increased since the...   \n",
       "112  How does COVID-19 increase risks of violence f...   \n",
       "113                            Who is most vulnerable?   \n",
       "114  Why should I care about violence against women...   \n",
       "\n",
       "                                                answer  \n",
       "0    Firstly, COVID-19 and influenza viruses have a...  \n",
       "1    The speed of transmission is an important poin...  \n",
       "2    While there are a number of therapeutics curre...  \n",
       "3    The most commonly used vaccines we have today ...  \n",
       "4    Research is currently underway to understand t...  \n",
       "..                                                 ...  \n",
       "110  When making preparedness and response plans fo...  \n",
       "111  Violence against women is highly prevalent, an...  \n",
       "112  Stress, the disruption of social and protectiv...  \n",
       "113  Women who are displaced, who are migrants or r...  \n",
       "114  Violence against women is a grave violation of...  \n",
       "\n",
       "[115 rows x 2 columns]"
      ]
     },
     "execution_count": 4,
     "metadata": {},
     "output_type": "execute_result"
    }
   ],
   "source": [
    "covid_words = ['coronavirus', 'covid']\n",
    "covidQA_df = pd.DataFrame(columns=['question','answer'])\n",
    "\n",
    "i = 0\n",
    "for index, row in who.iterrows():\n",
    "    text = row['question'] + row['answer']\n",
    "    for w in covid_words:\n",
    "        if w in text.lower():            \n",
    "            covidQA_df.loc[i] = [row['question'], row['answer']]\n",
    "            i += 1\n",
    "\n",
    "print(\"COVID-19 Question and Answer Pairs from WHO\")\n",
    "covidQA_df.to_csv('./data/WHO/covid19_QA_data.csv', encoding='utf-8')\n",
    "covidQA_df"
   ]
  },
  {
   "cell_type": "markdown",
   "metadata": {},
   "source": [
    "### 1.2 Get Top Words from WHO"
   ]
  },
  {
   "cell_type": "code",
   "execution_count": 5,
   "metadata": {},
   "outputs": [
    {
     "data": {
      "text/html": [
       "<div>\n",
       "<style scoped>\n",
       "    .dataframe tbody tr th:only-of-type {\n",
       "        vertical-align: middle;\n",
       "    }\n",
       "\n",
       "    .dataframe tbody tr th {\n",
       "        vertical-align: top;\n",
       "    }\n",
       "\n",
       "    .dataframe thead th {\n",
       "        text-align: right;\n",
       "    }\n",
       "</style>\n",
       "<table border=\"1\" class=\"dataframe\">\n",
       "  <thead>\n",
       "    <tr style=\"text-align: right;\">\n",
       "      <th></th>\n",
       "      <th>word</th>\n",
       "      <th>freq</th>\n",
       "    </tr>\n",
       "  </thead>\n",
       "  <tbody>\n",
       "    <tr>\n",
       "      <th>0</th>\n",
       "      <td>covid-19</td>\n",
       "      <td>326</td>\n",
       "    </tr>\n",
       "    <tr>\n",
       "      <th>24</th>\n",
       "      <td>health</td>\n",
       "      <td>123</td>\n",
       "    </tr>\n",
       "    <tr>\n",
       "      <th>73</th>\n",
       "      <td>people</td>\n",
       "      <td>76</td>\n",
       "    </tr>\n",
       "    <tr>\n",
       "      <th>139</th>\n",
       "      <td>risk</td>\n",
       "      <td>74</td>\n",
       "    </tr>\n",
       "    <tr>\n",
       "      <th>141</th>\n",
       "      <td>women</td>\n",
       "      <td>60</td>\n",
       "    </tr>\n",
       "    <tr>\n",
       "      <th>...</th>\n",
       "      <td>...</td>\n",
       "      <td>...</td>\n",
       "    </tr>\n",
       "    <tr>\n",
       "      <th>310</th>\n",
       "      <td>recommendations</td>\n",
       "      <td>11</td>\n",
       "    </tr>\n",
       "    <tr>\n",
       "      <th>428</th>\n",
       "      <td>caused</td>\n",
       "      <td>11</td>\n",
       "    </tr>\n",
       "    <tr>\n",
       "      <th>334</th>\n",
       "      <td>high</td>\n",
       "      <td>11</td>\n",
       "    </tr>\n",
       "    <tr>\n",
       "      <th>743</th>\n",
       "      <td>ensuring</td>\n",
       "      <td>11</td>\n",
       "    </tr>\n",
       "    <tr>\n",
       "      <th>359</th>\n",
       "      <td>appropriate</td>\n",
       "      <td>11</td>\n",
       "    </tr>\n",
       "  </tbody>\n",
       "</table>\n",
       "<p>200 rows × 2 columns</p>\n",
       "</div>"
      ],
      "text/plain": [
       "                word  freq\n",
       "0           covid-19   326\n",
       "24            health   123\n",
       "73            people    76\n",
       "139             risk    74\n",
       "141            women    60\n",
       "..               ...   ...\n",
       "310  recommendations    11\n",
       "428           caused    11\n",
       "334             high    11\n",
       "743         ensuring    11\n",
       "359      appropriate    11\n",
       "\n",
       "[200 rows x 2 columns]"
      ]
     },
     "execution_count": 5,
     "metadata": {},
     "output_type": "execute_result"
    }
   ],
   "source": [
    "import nltk\n",
    "from nltk import FreqDist\n",
    "\n",
    "text = \"\"\n",
    "for index, row in covidQA_df.iterrows():\n",
    "    text += row['question']+ \" \" + row['answer']\n",
    "\n",
    "\n",
    "def clean_text(text): \n",
    "    # remove special symbol\n",
    "    text = text.replace(\"\\xa0\",\" \").replace(\"\\n\",\" \").replace(\"\\t\",\" \").replace('\\\\\\'s','\\'s')\n",
    "    # remove punctuation\n",
    "    text = text.replace(\",\",\" \").replace(\".\",\" \").replace(\"?\",\" \").replace(\"(\",\" \").replace(\")\",\" \").replace(\"–\",\" \")\n",
    "    return text.split()\n",
    "\n",
    "tokens = clean_text(text)\n",
    "stopwords = set(nltk.corpus.stopwords.words('english')).union([\"the\"])\n",
    "\n",
    "fdist = FreqDist(w.lower() for w in tokens if not w.lower() in stopwords)\n",
    "freq_df = pd.DataFrame(fdist.items())\n",
    "freq_df.columns = ['word', 'freq']\n",
    "freq_df = freq_df.sort_values(by=['freq'], ascending=False)\n",
    "freq_df[:200]"
   ]
  },
  {
   "cell_type": "markdown",
   "metadata": {},
   "source": [
    "## 2. Prepare QQP Training Data"
   ]
  },
  {
   "cell_type": "code",
   "execution_count": null,
   "metadata": {},
   "outputs": [],
   "source": [
    "def filter_QQP_train(df):\n",
    "    # set kwlist by top words in WHO Covid Context\n",
    "    kwlist = ['flu ','influenza','health','virus','disease','hiv','treatment','infect','malaria','patient','protect', 'prevent', 'symptom', 'pandemic', 'medicine', 'illness', 'mask', 'vaccine']\n",
    "\n",
    "    i = 0\n",
    "    filtered_df = pd.DataFrame(columns=['question1','question2','is_duplicate','kw'])\n",
    "    for index, row in df.iterrows():\n",
    "        try:\n",
    "            s = row['question1'] + \" \" + row['question2']\n",
    "            kw = [w for w in kwlist if w in s.lower()]\n",
    "            if len(kw) >= 1:\n",
    "                filtered_df.loc[i] = [row['question1'], row['question2'], row['is_duplicate'], kw]\n",
    "                i += 1\n",
    "        except:\n",
    "            pass\n",
    "    return filtered_df\n",
    "\n",
    "filtered_train = filter_QQP_train(train)\n",
    "filtered_train"
   ]
  },
  {
   "cell_type": "code",
   "execution_count": null,
   "metadata": {
    "scrolled": true
   },
   "outputs": [],
   "source": [
    "def plot_kw_freq(filtered, usage, label):\n",
    "    filtered_label = filtered.loc[lambda filtered: filtered['is_duplicate'] == label]\n",
    "    print(\"Size of filtered QQP {} Data with label {}: {}\".format(usage, label, len(filtered_label)))\n",
    "    d = {}\n",
    "    for index, row in filtered_label.iterrows():\n",
    "        kws = row['kw']\n",
    "        for kw in kws:\n",
    "            count = d.get(kw, 0)\n",
    "            d[kw] = count + 1\n",
    "    kw_freq = pd.DataFrame(d.items())\n",
    "    kw_freq.columns = ['kw', 'count']\n",
    "    kw_freq = kw_freq.sort_values('count', ascending=True)\n",
    "    kw_freq.plot.barh(x='kw', y='count', figsize=(10,6), fontsize=12)\n",
    "    return kw_freq.sort_values('count', ascending=False)"
   ]
  },
  {
   "cell_type": "code",
   "execution_count": null,
   "metadata": {},
   "outputs": [],
   "source": [
    "print(plot_kw_freq(filtered_train, 'Training', 0))"
   ]
  },
  {
   "cell_type": "code",
   "execution_count": null,
   "metadata": {},
   "outputs": [],
   "source": [
    "print(plot_kw_freq(filtered_train, 'Training', 1))"
   ]
  },
  {
   "cell_type": "code",
   "execution_count": null,
   "metadata": {},
   "outputs": [],
   "source": [
    "# reduce the size of filtered_train0, make it similar to filtered_train1\n",
    "filtered_train0 = filtered_train.loc[lambda filtered_train: filtered_train['is_duplicate'] == 0]\n",
    "\n",
    "i = 0\n",
    "new_filtered_train0 = pd.DataFrame(columns=['question1','question2', 'is_duplicate','kw'])\n",
    "for index, row in filtered_train0.iterrows():\n",
    "    s = row['question1'] + \" \" + row['question2']\n",
    "    # decrease kw list1 for 70%\n",
    "    decrease1 = ['health','patient','prevent','protect','medicine','treatment','hiv']\n",
    "    # decrease kw list2 for 50%\n",
    "    decrease2 = ['virus','symptom','disease','infect']\n",
    "    if len([w for w in decrease1 if w in s.lower()])>=1:\n",
    "        if random() > 0.7:\n",
    "            new_filtered_train0.loc[i] = [row['question1'],row['question2'],row['is_duplicate'],row['kw']]\n",
    "            i += 1\n",
    "    elif len([w for w in decrease2 if w in s.lower()])>=1:\n",
    "        if random() > 0.5:\n",
    "            new_filtered_train0.loc[i] = [row['question1'],row['question2'],row['is_duplicate'],row['kw']]\n",
    "            i += 1 \n",
    "    else:\n",
    "        new_filtered_train0.loc[i] = [row['question1'],row['question2'],row['is_duplicate'],row['kw']]\n",
    "        i += 1\n",
    "            \n",
    "new_filtered_train0       "
   ]
  },
  {
   "cell_type": "code",
   "execution_count": null,
   "metadata": {},
   "outputs": [],
   "source": [
    "d = {}\n",
    "for index, row in new_filtered_train0.iterrows():\n",
    "    kws = row['kw']\n",
    "    for kw in kws:\n",
    "        count = d.get(kw, 0)\n",
    "        d[kw] = count + 1\n",
    "kw_freq = pd.DataFrame(d.items())\n",
    "kw_freq.columns = ['kw', 'count']\n",
    "kw_freq = kw_freq.sort_values('count', ascending=True)\n",
    "kw_freq.plot.barh(x='kw', y='count', figsize=(10,6), fontsize=12)\n",
    "kw_freq.sort_values('count', ascending=False)"
   ]
  },
  {
   "cell_type": "code",
   "execution_count": null,
   "metadata": {},
   "outputs": [],
   "source": [
    "# get filtered training data with label 1\n",
    "filtered_train1 = filtered_train.loc[lambda filtered_train: filtered_train['is_duplicate'] == 1]\n",
    "# combine filtered label 0 and label 1\n",
    "training_data = pd.concat([new_filtered_train0, filtered_train1]).reset_index(drop=True)\n",
    "training_data.to_csv('./data/QQP/filteredQQP.csv', encoding='utf-8')\n",
    "print(\"Size of filtered QQP Training Data with label 0: {}\".format(len(new_filtered_train0)))\n",
    "print(\"Size of filtered QQP Training Data with label 1: {}\".format(len(filtered_train1)))\n",
    "training_data"
   ]
  },
  {
   "cell_type": "markdown",
   "metadata": {},
   "source": [
    "## 3. Split QQP Data to Training and Testing Data"
   ]
  },
  {
   "cell_type": "code",
   "execution_count": null,
   "metadata": {},
   "outputs": [],
   "source": [
    "filtered_QQP0 = new_filtered_train0\n",
    "filtered_QQP1 = filtered_train1\n",
    "\n",
    "# split portion: 80% training data, 20% testing data\n",
    "filtered_QQP_train0, filtered_QQP_test0 = train_test_split(filtered_QQP0, test_size=0.2, random_state=40)\n",
    "filtered_QQP_train1, filtered_QQP_test1 = train_test_split(filtered_QQP1, test_size=0.2, random_state=40)\n",
    "\n",
    "# combine label 0 and label 1\n",
    "training_data = pd.concat([filtered_QQP_train0, filtered_QQP_train1]).reset_index(drop=True)\n",
    "testing_data = pd.concat([filtered_QQP_test0, filtered_QQP_test1]).reset_index(drop=True)\n",
    "\n",
    "# save to csv file\n",
    "training_data.to_csv('./data/training_data.csv', encoding='utf-8')\n",
    "training_data.to_csv('./data/testing_data.csv', encoding='utf-8')"
   ]
  },
  {
   "cell_type": "code",
   "execution_count": null,
   "metadata": {},
   "outputs": [],
   "source": [
    "name_list=[\"Training Data\",\"Testing Data\"]\n",
    "pair_list=[[len(filtered_QQP_train0),len(filtered_QQP_test0)],[len(filtered_QQP_train1),len(filtered_QQP_test1)]]\n",
    "pair_list=np.array(pair_list)\n",
    "img_df = pd.DataFrame(pair_list,index=name_list,columns=[\"Training Data\",\"Testing Data\"])\n",
    "img_df.plot(kind=\"bar\",rot=0, figsize=(10, 5), title=\"Filtered QQP Train-Test Data Size\")\n",
    "plt.savefig(\"data/FilteredQQP_TrainTestDataSize.jpg\")\n",
    "plt.show()"
   ]
  },
  {
   "cell_type": "code",
   "execution_count": null,
   "metadata": {},
   "outputs": [],
   "source": []
  }
 ],
 "metadata": {
  "kernelspec": {
   "display_name": "Python 3",
   "language": "python",
   "name": "python3"
  },
  "language_info": {
   "codemirror_mode": {
    "name": "ipython",
    "version": 3
   },
   "file_extension": ".py",
   "mimetype": "text/x-python",
   "name": "python",
   "nbconvert_exporter": "python",
   "pygments_lexer": "ipython3",
   "version": "3.8.5"
  }
 },
 "nbformat": 4,
 "nbformat_minor": 4
}
