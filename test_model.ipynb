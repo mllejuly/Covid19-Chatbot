{
 "cells": [
  {
   "cell_type": "code",
   "execution_count": 1,
   "metadata": {},
   "outputs": [],
   "source": [
    "from sentence_transformers import SentenceTransformer, util\n",
    "import csv\n",
    "import pandas as pd"
   ]
  },
  {
   "cell_type": "markdown",
   "metadata": {},
   "source": [
    "## Load Model"
   ]
  },
  {
   "cell_type": "code",
   "execution_count": 2,
   "metadata": {},
   "outputs": [],
   "source": [
    "# choose model\n",
    "\n",
    "base_model = 'bert-base-nli-mean-tokens-eps1-batch16-lr2e-05'\n",
    "# base_model = 'bert-base-nli-mean-tokens-eps1-batch32-lr2e-05'\n",
    "# base_model = 'bert-base-nli-mean-tokens-eps2-batch32-lr2e-05'\n",
    "# base_model = 'bert-base-nli-mean-tokens-eps3-batch16-lr2e-05'\n",
    "# base_model = 'bert-base-nli-mean-tokens-eps3-batch16-lr2e-07'\n",
    "# base_model = 'bert-base-nli-mean-tokens-eps3-batch32-lr2e-05'\n",
    "model = SentenceTransformer('./model/' + base_model)"
   ]
  },
  {
   "cell_type": "markdown",
   "metadata": {},
   "source": [
    "## Load WHO Covid19 Data"
   ]
  },
  {
   "cell_type": "code",
   "execution_count": 3,
   "metadata": {},
   "outputs": [],
   "source": [
    "test_data = csv.reader(open('data/WHO/covid19_QA_data.csv'))\n",
    "\n",
    "WHO_covid19_QA = {}\n",
    "for row in test_data:\n",
    "    question = row[1]\n",
    "    WHO_covid19_QA[question] = row[2]\n",
    "    \n",
    "# Extract All WHO Covid19 Questions\n",
    "sentences1 = pd.read_csv('data/WHO/covid19_QA_data.csv')['question'].tolist()"
   ]
  },
  {
   "cell_type": "code",
   "execution_count": 4,
   "metadata": {},
   "outputs": [],
   "source": [
    "def chatbot(user_query):\n",
    "    \n",
    "    # Chatbot get User Query\n",
    "    sentences2 = [user_query] * len(sentences1)\n",
    "\n",
    "    # Compute Embeddings for Sentences\n",
    "    embeddings1 = model.encode(sentences1, convert_to_tensor=True)\n",
    "    embeddings2 = model.encode(sentences2, convert_to_tensor=True)\n",
    "\n",
    "    # Compute Cosine-Similarits\n",
    "    cosine_scores = util.pytorch_cos_sim(embeddings1, embeddings2)\n",
    "\n",
    "    # Output Similarity Score\n",
    "    df = pd.DataFrame(columns=['WHO Question','Similarity Score'])\n",
    "    for i in range(len(sentences1)):\n",
    "        df.loc[i] = [sentences1[i], cosine_scores[i][i].item()]\n",
    "    df = df.sort_values('Similarity Score', ascending=False)\n",
    "    \n",
    "    # Get Answer by mapping WHO_covid19_QA Dict\n",
    "    q = df.iloc[0]['WHO Question']\n",
    "    a = WHO_covid19_QA[q]\n",
    "    top5 = df[:5]\n",
    "    return q, a, top5\n"
   ]
  },
  {
   "cell_type": "code",
   "execution_count": 5,
   "metadata": {},
   "outputs": [],
   "source": [
    "test_df = pd.read_csv('data/test_data.csv')\n",
    "test_dict = {}\n",
    "for index, row in test_df.iterrows():\n",
    "    value = test_dict.get(row['user_query'], [])\n",
    "    value.append(row['who_question'])\n",
    "    test_dict[row['user_query']] = value"
   ]
  },
  {
   "cell_type": "code",
   "execution_count": 6,
   "metadata": {},
   "outputs": [
    {
     "name": "stdout",
     "output_type": "stream",
     "text": [
      "User Query: Is coronavirus the flu?\n",
      "WHO Question Selected by Chatbot: What is a coronavirus?\n",
      "No. 0 / 21 : FAIL\n",
      "User Query: Are there medicines to treat the coronavirus infection?\n",
      "WHO Question Selected by Chatbot: Can antiretrovirals be used to prevent COVID-19 infection?\n",
      "No. 1 / 21 : MATCH\n",
      "User Query: What is coronavirus?\n",
      "WHO Question Selected by Chatbot: What is a coronavirus?\n",
      "No. 2 / 21 : MATCH\n",
      "User Query: Which foods boost immunity to viruses such as COVID-19?\n",
      "WHO Question Selected by Chatbot: Can antiretrovirals be used to prevent COVID-19 infection?\n",
      "No. 3 / 21 : MATCH\n",
      "User Query: Is it true that COVID-19 does not spread through the air?\n",
      "WHO Question Selected by Chatbot: Is there anything I should not do?\n",
      "No. 4 / 21 : FAIL\n",
      "User Query: Why is no one able to find medicine for Covid 19?\n",
      "WHO Question Selected by Chatbot: Are there any medicines or therapies that can prevent or cure COVID-19?\n",
      "No. 5 / 21 : MATCH\n",
      "User Query: Is social distancing helpful during the COVID-19 infection worldwide?\n",
      "WHO Question Selected by Chatbot: If we go ahead with an international mass gathering, what can we do to reduce the risk of participants catching COVID-19?\n",
      "No. 6 / 21 : FAIL\n",
      "User Query: Is coronavirus a virus or a bacteria?\n",
      "WHO Question Selected by Chatbot: Is the source of the coronavirus causing COVID-19 known?\n",
      "No. 7 / 21 : FAIL\n",
      "User Query: Is there a vaccine for the coronavirus?\n",
      "WHO Question Selected by Chatbot: Is the source of the coronavirus causing COVID-19 known?\n",
      "No. 8 / 21 : FAIL\n",
      "User Query: What are the symptoms of COVID-19?\n",
      "WHO Question Selected by Chatbot: What are the symptoms of COVID-19?\n",
      "No. 9 / 21 : MATCH\n",
      "User Query: Will the vaccination developed for COVID-19 be mandatory?\n",
      "WHO Question Selected by Chatbot: Is there a vaccine, drug or treatment for COVID-19?\n",
      "No. 10 / 21 : MATCH\n",
      "User Query: How do I keep safe from COVID-19?\n",
      "WHO Question Selected by Chatbot: So how do I stay safe while exercising in COVID-19?\n",
      "No. 11 / 21 : MATCH\n",
      "User Query: What does COVID-19 mean?\n",
      "WHO Question Selected by Chatbot: What is COVID-19?\n",
      "No. 12 / 21 : MATCH\n",
      "User Query: Is there any cure for COVID-19?\n",
      "WHO Question Selected by Chatbot: Is there a vaccine, drug or treatment for COVID-19?\n",
      "No. 13 / 21 : MATCH\n",
      "User Query: Can dogs get COVID-19?\n",
      "WHO Question Selected by Chatbot: Can I catch COVID-19 from my pet?\n",
      "No. 14 / 21 : MATCH\n",
      "User Query: Is there a treatment for the Coronavirus?\n",
      "WHO Question Selected by Chatbot: Is the source of the coronavirus causing COVID-19 known?\n",
      "No. 15 / 21 : FAIL\n",
      "User Query: What is a novel coronavirus? What is the COVID-19 virus?\n",
      "WHO Question Selected by Chatbot: Is the source of the coronavirus causing COVID-19 known?\n",
      "No. 16 / 21 : FAIL\n",
      "User Query: Will Remdesivir be the cure for the coronavirus COVID-19?\n",
      "WHO Question Selected by Chatbot: Is the source of the coronavirus causing COVID-19 known?\n",
      "No. 17 / 21 : FAIL\n",
      "User Query: Can vaccines be effective in fighting COVID-19?\n",
      "WHO Question Selected by Chatbot: Is there a vaccine, drug or treatment for COVID-19?\n",
      "No. 18 / 21 : MATCH\n",
      "User Query: How soon could there be a cure for the COVID-19 virus?\n",
      "WHO Question Selected by Chatbot: Is there a vaccine, drug or treatment for COVID-19?\n",
      "No. 19 / 21 : MATCH\n",
      "User Query: What are some tips to help prepare in the event that COVID-19 becomes a pandemic?\n",
      "WHO Question Selected by Chatbot: Is contraception/ family planning safe to use during the COVID-19 pandemic?\n",
      "No. 20 / 21 : FAIL\n",
      "Model Matches: 12 / 21\n",
      "Model Accuracy: 0.5714285714285714\n"
     ]
    }
   ],
   "source": [
    "test_queries = test_df[\"user_query\"].unique()\n",
    "n = len(test_queries)\n",
    "\n",
    "match = 0\n",
    "for test_query in test_queries:\n",
    "    print(\"User Query: {}\".format(test_query))\n",
    "    expected_who_questions = test_dict[test_query]\n",
    "    question_by_model, answer_by_model, top5_qa_by_model = chatbot(test_query)\n",
    "    print(\"WHO Question Selected by Chatbot: {}\".format(question_by_model))\n",
    "    if question_by_model in expected_who_questions:\n",
    "        match += 1\n",
    "        print(\"No. {} / {} : MATCH\".format(test_queries.tolist().index(test_query), n))\n",
    "    else:\n",
    "        print(\"No. {} / {} : FAIL\".format(test_queries.tolist().index(test_query), n))\n",
    "\n",
    "\n",
    "print(\"Model Matches: {} / {}\".format(match, n))\n",
    "print(\"Model Accuracy: {}\".format(match/n))"
   ]
  },
  {
   "cell_type": "code",
   "execution_count": null,
   "metadata": {},
   "outputs": [],
   "source": []
  }
 ],
 "metadata": {
  "kernelspec": {
   "display_name": "Python 3",
   "language": "python",
   "name": "python3"
  },
  "language_info": {
   "codemirror_mode": {
    "name": "ipython",
    "version": 3
   },
   "file_extension": ".py",
   "mimetype": "text/x-python",
   "name": "python",
   "nbconvert_exporter": "python",
   "pygments_lexer": "ipython3",
   "version": "3.8.5"
  }
 },
 "nbformat": 4,
 "nbformat_minor": 4
}
