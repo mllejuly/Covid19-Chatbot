{
 "cells": [
  {
   "cell_type": "markdown",
   "metadata": {},
   "source": [
    "# Covod19 Chatbot Demo"
   ]
  },
  {
   "cell_type": "code",
   "execution_count": 1,
   "metadata": {},
   "outputs": [],
   "source": [
    "from sentence_transformers import SentenceTransformer, util\n",
    "import csv\n",
    "import pandas as pd"
   ]
  },
  {
   "cell_type": "code",
   "execution_count": 2,
   "metadata": {},
   "outputs": [],
   "source": [
    "base_model = 'bert-base-nli-mean-tokens-eps1-batch16-lr2e-05'\n",
    "model = SentenceTransformer('./model/' + base_model)"
   ]
  },
  {
   "cell_type": "code",
   "execution_count": 3,
   "metadata": {},
   "outputs": [],
   "source": [
    "covid19_QA_data = csv.reader(open('data/WHO/covid19_QA_data.csv'))\n",
    "\n",
    "WHO_covid19_QA = {}\n",
    "for row in covid19_QA_data:\n",
    "    question = row[1]\n",
    "    WHO_covid19_QA[question] = row[2]\n",
    "    \n",
    "# Extract All WHO Covid19 Questions\n",
    "sentences1 = pd.read_csv('data/WHO/covid19_QA_data.csv')['question'].tolist()\n",
    "\n",
    "def chatbot(user_query):\n",
    "    \n",
    "    # Chatbot get User Query\n",
    "    sentences2 = [user_query] * len(sentences1)\n",
    "\n",
    "    # Compute Embeddings for Sentences\n",
    "    embeddings1 = model.encode(sentences1, convert_to_tensor=True)\n",
    "    embeddings2 = model.encode(sentences2, convert_to_tensor=True)\n",
    "\n",
    "    # Compute Cosine-Similarits\n",
    "    cosine_scores = util.pytorch_cos_sim(embeddings1, embeddings2)\n",
    "\n",
    "    # Output Similarity Score\n",
    "    df = pd.DataFrame(columns=['WHO Question','Similarity Score'])\n",
    "    for i in range(len(sentences1)):\n",
    "        df.loc[i] = [sentences1[i], cosine_scores[i][i].item()]\n",
    "    df = df.sort_values('Similarity Score', ascending=False)\n",
    "    \n",
    "    # Get Answer by mapping WHO_covid19_QA Dict\n",
    "    q = df.iloc[0]['WHO Question']\n",
    "    a = WHO_covid19_QA[q]\n",
    "    top5 = df[:5]\n",
    "    return q, a, top5"
   ]
  },
  {
   "cell_type": "code",
   "execution_count": 4,
   "metadata": {},
   "outputs": [
    {
     "name": "stdout",
     "output_type": "stream",
     "text": [
      "Query: Introduction to Coronavirus\n",
      "Chatbot Answer: Coronaviruses are a large family of viruses which may cause illness in animals or humans.  In humans, several coronaviruses are known to cause respiratory infections ranging from the common cold to more severe diseases such as Middle East Respiratory Syndrome (MERS) and Severe Acute Respiratory Syndrome (SARS). The most recently discovered coronavirus causes coronavirus disease COVID-19.\n"
     ]
    }
   ],
   "source": [
    "user_query = \"Introduction to Coronavirus\"\n",
    "q, a, top5 = chatbot(user_query)\n",
    "\n",
    "print(\"Query: {}\".format(user_query))\n",
    "print(\"Chatbot Answer: {}\".format(a))"
   ]
  },
  {
   "cell_type": "code",
   "execution_count": null,
   "metadata": {},
   "outputs": [],
   "source": []
  }
 ],
 "metadata": {
  "kernelspec": {
   "display_name": "Python 3",
   "language": "python",
   "name": "python3"
  },
  "language_info": {
   "codemirror_mode": {
    "name": "ipython",
    "version": 3
   },
   "file_extension": ".py",
   "mimetype": "text/x-python",
   "name": "python",
   "nbconvert_exporter": "python",
   "pygments_lexer": "ipython3",
   "version": "3.8.5"
  }
 },
 "nbformat": 4,
 "nbformat_minor": 4
}
