{
 "cells": [
  {
   "cell_type": "code",
   "execution_count": 57,
   "metadata": {},
   "outputs": [],
   "source": [
    "import time\n",
    "import pandas as pd\n",
    "from selenium import webdriver\n",
    "from selenium.webdriver.common.keys import Keys"
   ]
  },
  {
   "cell_type": "code",
   "execution_count": 61,
   "metadata": {},
   "outputs": [],
   "source": [
    "queries = [\"covid\", \"coronavirus\"]\n",
    "links = []\n",
    "for query in queries:\n",
    "    url = f\"https://www.quora.com/search?q={query}\"\n",
    "\n",
    "    browser = webdriver.Chrome()\n",
    "    browser.get(url)\n",
    "    elem = browser.find_element_by_tag_name(\"body\")\n",
    "    \n",
    "    for _ in range(100):\n",
    "        elem.send_keys(Keys.PAGE_DOWN)\n",
    "        time.sleep(0.2)\n",
    "\n",
    "    for entry in browser.find_elements_by_xpath(\"//a[@class='question_link']\"):\n",
    "        link = entry.get_attribute(\"href\")\n",
    "        links.append(link)\n",
    "\n",
    "    browser.close()\n",
    "\n",
    "with open(\"quora.links\", \"w\") as fp:\n",
    "    for link in links:\n",
    "        fp.write(link)\n",
    "        fp.write(\"\\n\")"
   ]
  },
  {
   "cell_type": "code",
   "execution_count": 92,
   "metadata": {},
   "outputs": [],
   "source": [
    "xpath = r'//*[@id=\"root\"]/div/div/div[3]/div/div/div[1]/div[1]/div/div[2]/span/div/div/div/span/span'\n",
    "questions = []\n",
    "\n",
    "for link in links:\n",
    "    browser = webdriver.Chrome()\n",
    "    browser.get(link)\n",
    "    try:\n",
    "        questions.append(browser.find_element_by_xpath(xpath).text)\n",
    "    except:\n",
    "        pass\n",
    "    browser.close()\n",
    "    time.sleep(0.5)"
   ]
  },
  {
   "cell_type": "code",
   "execution_count": 98,
   "metadata": {},
   "outputs": [],
   "source": [
    "with open(\"quora.questions\", \"w\") as fp:\n",
    "    for question in questions:\n",
    "        fp.write(question)\n",
    "        fp.write(\"\\n\")"
   ]
  },
  {
   "cell_type": "code",
   "execution_count": null,
   "metadata": {},
   "outputs": [],
   "source": []
  }
 ],
 "metadata": {
  "kernelspec": {
   "display_name": "Python 3",
   "language": "python",
   "name": "python3"
  },
  "language_info": {
   "codemirror_mode": {
    "name": "ipython",
    "version": 3
   },
   "file_extension": ".py",
   "mimetype": "text/x-python",
   "name": "python",
   "nbconvert_exporter": "python",
   "pygments_lexer": "ipython3",
   "version": "3.7.2"
  },
  "toc": {
   "base_numbering": 1,
   "nav_menu": {},
   "number_sections": true,
   "sideBar": true,
   "skip_h1_title": false,
   "title_cell": "Table of Contents",
   "title_sidebar": "Contents",
   "toc_cell": false,
   "toc_position": {},
   "toc_section_display": true,
   "toc_window_display": false
  }
 },
 "nbformat": 4,
 "nbformat_minor": 2
}
